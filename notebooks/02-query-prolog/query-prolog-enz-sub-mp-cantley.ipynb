{
 "cells": [
  {
   "cell_type": "code",
   "execution_count": 15,
   "metadata": {},
   "outputs": [],
   "source": [
    "import os\n",
    "import pandas as pd\n",
    "\n",
    "from src.models.queryProlog import queryProlog"
   ]
  },
  {
   "cell_type": "code",
   "execution_count": 16,
   "metadata": {},
   "outputs": [],
   "source": [
    "os.chdir('/Users/magdalena/OneDrive - Queen Mary, University of London/bezzlab/research/projects/phospho_logician/')\n",
    "# os.chdir('/home/mhuebner/Desktop/bezzlab/research/projects/phospho_logician/')"
   ]
  },
  {
   "cell_type": "code",
   "execution_count": 17,
   "metadata": {},
   "outputs": [],
   "source": [
    "path = '/Users/magdalena/OneDrive - Queen Mary, University of London/bezzlab/research/projects/phospho_logician/'"
   ]
  },
  {
   "cell_type": "code",
   "execution_count": 18,
   "metadata": {},
   "outputs": [],
   "source": [
    "# selecting cell line + search space\n",
    "cline = 'HL60'  # HL60, MCF7, NTERA2\n",
    "space = 'omnipath_sub'  # lints (error), dirts, fges? (for magpipe)\n",
    "\n",
    "# mainconsultList is a list with files to consult, such as:\n",
    "mainConsultList = [path + 'models/rules/rule_enz_sub_ctxt.pl',\n",
    "                   path + 'models/facts/enz_sub_omnipath.pl',\n",
    "                   path + 'models/facts/cantley/enz_sub_cantley_p99.pl',\n",
    "                   path + 'models/facts/pdt_' + cline + '.pl',\n",
    "                   path + 'models/facts/cantley/ksea_' + cline + '_mp_cantley.pl',\n",
    "                   path + 'models/facts/enzyme_class.pl',\n",
    "                   path + 'models/facts/perturbs_' + cline + '_mp.pl',\n",
    "                   path + 'models/facts/effect_sign_omnipath']"
   ]
  },
  {
   "cell_type": "code",
   "execution_count": 19,
   "metadata": {},
   "outputs": [
    {
     "name": "stderr",
     "output_type": "stream",
     "text": [
      "Warning: /Users/magdalena/OneDrive - Queen Mary, University of London/bezzlab/research/projects/phospho_logician/models/facts/cantley/enz_sub_cantley_p99.pl:1:\n",
      "Warning:    Redefined static procedure enz_sub/3\n",
      "Warning:    Previously defined at /Users/magdalena/OneDrive - Queen Mary, University of London/bezzlab/research/projects/phospho_logician/models/facts/enz_sub_omnipath.pl:1\n"
     ]
    }
   ],
   "source": [
    "# PROLOG QUERY (ENZYME-SUBSTRATE)\n",
    "# select 'search_space' (omnipath_sub, omnipath_tprot, pdts, pdts_dirts, lints, dirts)\n",
    "enz_sub = pd.DataFrame(queryProlog('enz_sub_ctxt(Pert, Kpa, Pst, Tprot,' + space + ').', mainConsultList))\n",
    "# Warning:    Redefined static procedure enz_sub/3: that's because some potetntial duplicated enz_sub facts in omnipath and cantley"
   ]
  },
  {
   "cell_type": "code",
   "execution_count": 20,
   "metadata": {},
   "outputs": [],
   "source": [
    "# clean up\n",
    "enz_sub = enz_sub.drop_duplicates()\n",
    "enz_sub = enz_sub.sort_values(by=['Pert', 'Kpa', 'Pst'])\n",
    "enz_tprot = enz_sub[['Pert', 'Kpa', 'Tprot']].drop_duplicates()"
   ]
  },
  {
   "cell_type": "code",
   "execution_count": 21,
   "metadata": {},
   "outputs": [
    {
     "data": {
      "text/html": [
       "<div>\n",
       "<style scoped>\n",
       "    .dataframe tbody tr th:only-of-type {\n",
       "        vertical-align: middle;\n",
       "    }\n",
       "\n",
       "    .dataframe tbody tr th {\n",
       "        vertical-align: top;\n",
       "    }\n",
       "\n",
       "    .dataframe thead th {\n",
       "        text-align: right;\n",
       "    }\n",
       "</style>\n",
       "<table border=\"1\" class=\"dataframe\">\n",
       "  <thead>\n",
       "    <tr style=\"text-align: right;\">\n",
       "      <th></th>\n",
       "      <th>Pert</th>\n",
       "      <th>Kpa</th>\n",
       "      <th>Pst</th>\n",
       "      <th>Tprot</th>\n",
       "    </tr>\n",
       "  </thead>\n",
       "  <tbody>\n",
       "    <tr>\n",
       "      <th>202</th>\n",
       "      <td>AC220</td>\n",
       "      <td>AAK1</td>\n",
       "      <td>AAK1(T389)</td>\n",
       "      <td>AAK1</td>\n",
       "    </tr>\n",
       "    <tr>\n",
       "      <th>2</th>\n",
       "      <td>AC220</td>\n",
       "      <td>AAK1</td>\n",
       "      <td>CLDN3(T204)</td>\n",
       "      <td>CLDN3</td>\n",
       "    </tr>\n",
       "    <tr>\n",
       "      <th>290</th>\n",
       "      <td>AC220</td>\n",
       "      <td>AAK1</td>\n",
       "      <td>IKZF3(T141)</td>\n",
       "      <td>IKZF3</td>\n",
       "    </tr>\n",
       "    <tr>\n",
       "      <th>306</th>\n",
       "      <td>AC220</td>\n",
       "      <td>AAK1</td>\n",
       "      <td>L1RE1(T203)</td>\n",
       "      <td>L1RE1</td>\n",
       "    </tr>\n",
       "    <tr>\n",
       "      <th>160</th>\n",
       "      <td>AC220</td>\n",
       "      <td>AAK1</td>\n",
       "      <td>PLEC(T4646)</td>\n",
       "      <td>PLEC</td>\n",
       "    </tr>\n",
       "    <tr>\n",
       "      <th>...</th>\n",
       "      <td>...</td>\n",
       "      <td>...</td>\n",
       "      <td>...</td>\n",
       "      <td>...</td>\n",
       "    </tr>\n",
       "    <tr>\n",
       "      <th>335414</th>\n",
       "      <td>Vemurafenib</td>\n",
       "      <td>WNK1</td>\n",
       "      <td>SRRM2(S2044)</td>\n",
       "      <td>SRRM2</td>\n",
       "    </tr>\n",
       "    <tr>\n",
       "      <th>334060</th>\n",
       "      <td>Vemurafenib</td>\n",
       "      <td>WNK1</td>\n",
       "      <td>SRSF1(S205)</td>\n",
       "      <td>SRSF1</td>\n",
       "    </tr>\n",
       "    <tr>\n",
       "      <th>333556</th>\n",
       "      <td>Vemurafenib</td>\n",
       "      <td>WNK1</td>\n",
       "      <td>SRSF10(S131)</td>\n",
       "      <td>SRSF10</td>\n",
       "    </tr>\n",
       "    <tr>\n",
       "      <th>334176</th>\n",
       "      <td>Vemurafenib</td>\n",
       "      <td>WNK1</td>\n",
       "      <td>TRA2A(S96)</td>\n",
       "      <td>TRA2A</td>\n",
       "    </tr>\n",
       "    <tr>\n",
       "      <th>334969</th>\n",
       "      <td>Vemurafenib</td>\n",
       "      <td>WNK1</td>\n",
       "      <td>TRIM2(S456)</td>\n",
       "      <td>TRIM2</td>\n",
       "    </tr>\n",
       "  </tbody>\n",
       "</table>\n",
       "<p>179355 rows × 4 columns</p>\n",
       "</div>"
      ],
      "text/plain": [
       "               Pert   Kpa           Pst   Tprot\n",
       "202           AC220  AAK1    AAK1(T389)    AAK1\n",
       "2             AC220  AAK1   CLDN3(T204)   CLDN3\n",
       "290           AC220  AAK1   IKZF3(T141)   IKZF3\n",
       "306           AC220  AAK1   L1RE1(T203)   L1RE1\n",
       "160           AC220  AAK1   PLEC(T4646)    PLEC\n",
       "...             ...   ...           ...     ...\n",
       "335414  Vemurafenib  WNK1  SRRM2(S2044)   SRRM2\n",
       "334060  Vemurafenib  WNK1   SRSF1(S205)   SRSF1\n",
       "333556  Vemurafenib  WNK1  SRSF10(S131)  SRSF10\n",
       "334176  Vemurafenib  WNK1    TRA2A(S96)   TRA2A\n",
       "334969  Vemurafenib  WNK1   TRIM2(S456)   TRIM2\n",
       "\n",
       "[179355 rows x 4 columns]"
      ]
     },
     "execution_count": 21,
     "metadata": {},
     "output_type": "execute_result"
    }
   ],
   "source": [
    "enz_sub"
   ]
  },
  {
   "cell_type": "code",
   "execution_count": 22,
   "metadata": {},
   "outputs": [],
   "source": [
    "# export to csv with:\n",
    "enz_sub.to_csv('models/results/cantley/enz_sub_' + space + '_' + cline + '.csv', index=False)\n",
    "enz_tprot.to_csv('models/results/cantley/enz_tprot_' + space + '_' + cline + '.csv', index=False)"
   ]
  }
 ],
 "metadata": {
  "kernelspec": {
   "display_name": "phospho_logician",
   "language": "python",
   "name": "python3"
  },
  "language_info": {
   "codemirror_mode": {
    "name": "ipython",
    "version": 3
   },
   "file_extension": ".py",
   "mimetype": "text/x-python",
   "name": "python",
   "nbconvert_exporter": "python",
   "pygments_lexer": "ipython3",
   "version": "3.11.3"
  },
  "orig_nbformat": 4
 },
 "nbformat": 4,
 "nbformat_minor": 2
}
