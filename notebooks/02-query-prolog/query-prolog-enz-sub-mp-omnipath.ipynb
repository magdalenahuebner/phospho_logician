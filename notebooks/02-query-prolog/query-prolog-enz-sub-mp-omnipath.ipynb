{
 "cells": [
  {
   "cell_type": "code",
   "execution_count": 1,
   "metadata": {},
   "outputs": [
    {
     "name": "stderr",
     "output_type": "stream",
     "text": [
      "Warning: Package real: no binary for architecture [x86_64-darwin]\n"
     ]
    }
   ],
   "source": [
    "import os\n",
    "import pandas as pd\n",
    "\n",
    "from src.models.queryProlog import queryProlog"
   ]
  },
  {
   "cell_type": "code",
   "execution_count": 2,
   "metadata": {},
   "outputs": [],
   "source": [
    "os.chdir('/Users/magdalena/OneDrive - Queen Mary, University of London/bezzlab/research/projects/phospho_logician/')\n",
    "# os.chdir('/home/mhuebner/Desktop/bezzlab/research/projects/phospho_logician/')"
   ]
  },
  {
   "cell_type": "code",
   "execution_count": 3,
   "metadata": {},
   "outputs": [],
   "source": [
    "path = '/Users/magdalena/OneDrive - Queen Mary, University of London/bezzlab/research/projects/phospho_logician/'"
   ]
  },
  {
   "cell_type": "code",
   "execution_count": 4,
   "metadata": {},
   "outputs": [],
   "source": [
    "# selecting cell line + search space\n",
    "cline = 'HL60'  # HL60, MCF7, NTERA2\n",
    "space = 'omnipath_sub'  # lints (error), dirts, fges? (for magpipe)\n",
    "\n",
    "# mainconsultList is a list with files to consult, such as:\n",
    "mainConsultList = [path + 'models/rules/rule_enz_sub_ctxt.pl',\n",
    "                   path + 'models/facts/enz_sub_omnipath.pl',\n",
    "                   path + 'models/facts/pdt_' + cline + '.pl',\n",
    "                   path + 'models/facts/ksea_' + cline + '_mp.pl',\n",
    "                   path + 'models/facts/enzyme_class.pl',\n",
    "                   path + 'models/facts/perturbs_' + cline + '_mp.pl',\n",
    "                   path + 'models/facts/effect_sign_omnipath']"
   ]
  },
  {
   "cell_type": "code",
   "execution_count": 5,
   "metadata": {},
   "outputs": [],
   "source": [
    "# PROLOG QUERY (ENZYME-SUBSTRATE)\n",
    "# select 'search_space' (omnipath_sub, omnipath_tprot, pdts, pdts_dirts, lints, dirts)\n",
    "enz_sub = pd.DataFrame(queryProlog('enz_sub_ctxt(Pert, Kpa, Pst, Tprot, ' + space + ').', mainConsultList))"
   ]
  },
  {
   "cell_type": "code",
   "execution_count": null,
   "metadata": {},
   "outputs": [],
   "source": [
    "# clean up\n",
    "enz_sub = enz_sub.drop_duplicates()\n",
    "enz_sub = enz_sub.sort_values(by=['Pert', 'Kpa', 'Pst'])\n",
    "enz_tprot = enz_sub[['Pert', 'Kpa', 'Tprot']].drop_duplicates()"
   ]
  },
  {
   "cell_type": "code",
   "execution_count": null,
   "metadata": {},
   "outputs": [],
   "source": [
    "# export to csv with:\n",
    "enz_sub.to_csv('models/results/omnipath/enz_sub_' + space + '_' + cline + '.csv', index=False)\n",
    "enz_tprot.to_csv('models/results/omnipath/enz_tprot_' + space + '_' + cline + '.csv', index=False)"
   ]
  }
 ],
 "metadata": {
  "kernelspec": {
   "display_name": "phospho_logician",
   "language": "python",
   "name": "python3"
  },
  "language_info": {
   "codemirror_mode": {
    "name": "ipython",
    "version": 3
   },
   "file_extension": ".py",
   "mimetype": "text/x-python",
   "name": "python",
   "nbconvert_exporter": "python",
   "pygments_lexer": "ipython3",
   "version": "3.11.3"
  },
  "orig_nbformat": 4
 },
 "nbformat": 4,
 "nbformat_minor": 2
}
