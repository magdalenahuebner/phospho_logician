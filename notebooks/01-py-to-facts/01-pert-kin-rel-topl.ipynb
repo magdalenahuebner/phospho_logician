{
 "cells": [
  {
   "cell_type": "code",
   "execution_count": 1,
   "metadata": {},
   "outputs": [],
   "source": [
    "import os\n",
    "import pandas as pd\n",
    "import sqlite3"
   ]
  },
  {
   "cell_type": "code",
   "execution_count": 2,
   "metadata": {},
   "outputs": [],
   "source": [
    "# os.chdir('/Users/magdalena/OneDrive - Queen Mary, University of London/bezzlab/research/projects/phospho_logician/')\n",
    "os.chdir('/home/mhuebner/Desktop/bezzlab/research/projects/phospho_logician/')"
   ]
  },
  {
   "cell_type": "code",
   "execution_count": 3,
   "metadata": {},
   "outputs": [],
   "source": [
    "conn = sqlite3.connect('data/external/chemphopro.db')"
   ]
  },
  {
   "cell_type": "code",
   "execution_count": 4,
   "metadata": {},
   "outputs": [],
   "source": [
    "# data frame with \"where....\" adding SQL Query parameters\n",
    "pk_rel = pd.read_sql_query('SELECT * FROM pk_relationship ;', conn)\n",
    "pk_rel = pk_rel[pk_rel['score'] <= 0.5]\n",
    "\n",
    "pk_rel = pk_rel.pivot(index=['kinase', 'perturbagen'], columns='source', values='score')\n",
    "pk_rel = pk_rel.reset_index()"
   ]
  },
  {
   "cell_type": "code",
   "execution_count": 5,
   "metadata": {},
   "outputs": [
    {
     "data": {
      "text/html": [
       "<div>\n",
       "<style scoped>\n",
       "    .dataframe tbody tr th:only-of-type {\n",
       "        vertical-align: middle;\n",
       "    }\n",
       "\n",
       "    .dataframe tbody tr th {\n",
       "        vertical-align: top;\n",
       "    }\n",
       "\n",
       "    .dataframe thead th {\n",
       "        text-align: right;\n",
       "    }\n",
       "</style>\n",
       "<table border=\"1\" class=\"dataframe\">\n",
       "  <thead>\n",
       "    <tr style=\"text-align: right;\">\n",
       "      <th>source</th>\n",
       "      <th>kinase</th>\n",
       "      <th>perturbagen</th>\n",
       "      <th>discoverx</th>\n",
       "      <th>kuster</th>\n",
       "      <th>vendor</th>\n",
       "    </tr>\n",
       "  </thead>\n",
       "  <tbody>\n",
       "    <tr>\n",
       "      <th>0</th>\n",
       "      <td>AAK1</td>\n",
       "      <td>AZD5438</td>\n",
       "      <td>0.458647</td>\n",
       "      <td>0.003569</td>\n",
       "      <td>NaN</td>\n",
       "    </tr>\n",
       "    <tr>\n",
       "      <th>1</th>\n",
       "      <td>AAK1</td>\n",
       "      <td>GDC0994</td>\n",
       "      <td>NaN</td>\n",
       "      <td>0.006291</td>\n",
       "      <td>NaN</td>\n",
       "    </tr>\n",
       "    <tr>\n",
       "      <th>2</th>\n",
       "      <td>AAK1</td>\n",
       "      <td>Go6976</td>\n",
       "      <td>0.470000</td>\n",
       "      <td>NaN</td>\n",
       "      <td>NaN</td>\n",
       "    </tr>\n",
       "    <tr>\n",
       "      <th>3</th>\n",
       "      <td>AAK1</td>\n",
       "      <td>LY2090314</td>\n",
       "      <td>0.330000</td>\n",
       "      <td>NaN</td>\n",
       "      <td>NaN</td>\n",
       "    </tr>\n",
       "    <tr>\n",
       "      <th>4</th>\n",
       "      <td>AAK1</td>\n",
       "      <td>LY2835219</td>\n",
       "      <td>0.130000</td>\n",
       "      <td>0.001585</td>\n",
       "      <td>NaN</td>\n",
       "    </tr>\n",
       "    <tr>\n",
       "      <th>...</th>\n",
       "      <td>...</td>\n",
       "      <td>...</td>\n",
       "      <td>...</td>\n",
       "      <td>...</td>\n",
       "      <td>...</td>\n",
       "    </tr>\n",
       "    <tr>\n",
       "      <th>623</th>\n",
       "      <td>ULK1</td>\n",
       "      <td>CX4945</td>\n",
       "      <td>NaN</td>\n",
       "      <td>0.057562</td>\n",
       "      <td>NaN</td>\n",
       "    </tr>\n",
       "    <tr>\n",
       "      <th>624</th>\n",
       "      <td>ULK1</td>\n",
       "      <td>Dabrafenib</td>\n",
       "      <td>NaN</td>\n",
       "      <td>0.002943</td>\n",
       "      <td>NaN</td>\n",
       "    </tr>\n",
       "    <tr>\n",
       "      <th>625</th>\n",
       "      <td>ULK1</td>\n",
       "      <td>PF3758309</td>\n",
       "      <td>0.370000</td>\n",
       "      <td>NaN</td>\n",
       "      <td>NaN</td>\n",
       "    </tr>\n",
       "    <tr>\n",
       "      <th>626</th>\n",
       "      <td>YES1</td>\n",
       "      <td>Dasatinib</td>\n",
       "      <td>NaN</td>\n",
       "      <td>0.000043</td>\n",
       "      <td>NaN</td>\n",
       "    </tr>\n",
       "    <tr>\n",
       "      <th>627</th>\n",
       "      <td>YES1</td>\n",
       "      <td>PF3758309</td>\n",
       "      <td>NaN</td>\n",
       "      <td>0.087347</td>\n",
       "      <td>NaN</td>\n",
       "    </tr>\n",
       "  </tbody>\n",
       "</table>\n",
       "<p>628 rows × 5 columns</p>\n",
       "</div>"
      ],
      "text/plain": [
       "source kinase perturbagen  discoverx    kuster  vendor\n",
       "0        AAK1     AZD5438   0.458647  0.003569     NaN\n",
       "1        AAK1     GDC0994        NaN  0.006291     NaN\n",
       "2        AAK1      Go6976   0.470000       NaN     NaN\n",
       "3        AAK1   LY2090314   0.330000       NaN     NaN\n",
       "4        AAK1   LY2835219   0.130000  0.001585     NaN\n",
       "..        ...         ...        ...       ...     ...\n",
       "623      ULK1      CX4945        NaN  0.057562     NaN\n",
       "624      ULK1  Dabrafenib        NaN  0.002943     NaN\n",
       "625      ULK1   PF3758309   0.370000       NaN     NaN\n",
       "626      YES1   Dasatinib        NaN  0.000043     NaN\n",
       "627      YES1   PF3758309        NaN  0.087347     NaN\n",
       "\n",
       "[628 rows x 5 columns]"
      ]
     },
     "execution_count": 5,
     "metadata": {},
     "output_type": "execute_result"
    }
   ],
   "source": [
    "pk_rel"
   ]
  },
  {
   "cell_type": "code",
   "execution_count": 6,
   "metadata": {},
   "outputs": [],
   "source": [
    "# export df to csv\n",
    "pk_rel.to_csv('data/processed/facts/pert_kin_rel.csv', index=False)"
   ]
  },
  {
   "cell_type": "code",
   "execution_count": 7,
   "metadata": {},
   "outputs": [],
   "source": [
    "# write Prolog file\n",
    "with open('models/facts/pert_kin_rel.pl', 'w') as file:\n",
    "    for index, row in pk_rel.iterrows():\n",
    "        var1 = \"pert_kin('{}', '{}').\".format(row['perturbagen'], row['kinase'])\n",
    "        file.write(var1 + '\\n')"
   ]
  }
 ],
 "metadata": {
  "kernelspec": {
   "display_name": "phospho_logician",
   "language": "python",
   "name": "python3"
  },
  "language_info": {
   "codemirror_mode": {
    "name": "ipython",
    "version": 3
   },
   "file_extension": ".py",
   "mimetype": "text/x-python",
   "name": "python",
   "nbconvert_exporter": "python",
   "pygments_lexer": "ipython3",
   "version": "3.11.3"
  },
  "orig_nbformat": 4
 },
 "nbformat": 4,
 "nbformat_minor": 2
}
