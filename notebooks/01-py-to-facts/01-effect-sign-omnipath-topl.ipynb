{
 "cells": [
  {
   "cell_type": "code",
   "execution_count": 2,
   "metadata": {},
   "outputs": [],
   "source": [
    "import os\n",
    "import pandas as pd"
   ]
  },
  {
   "cell_type": "code",
   "execution_count": 3,
   "metadata": {},
   "outputs": [],
   "source": [
    "# os.chdir('/Users/magdalena/OneDrive - Queen Mary, University of London/bezzlab/research/projects/phospho_logician/')\n",
    "os.chdir('/home/mhuebner/Desktop/bezzlab/research/projects/phospho_logician/')"
   ]
  },
  {
   "cell_type": "code",
   "execution_count": 4,
   "metadata": {},
   "outputs": [],
   "source": [
    "effect_sign = pd.read_csv('data/external/omnipathr/effect_sign_omnipath.csv')\n",
    "effect_sign = effect_sign[['pst', 'consensus_sign']]\n",
    "effect_sign = effect_sign.drop_duplicates()"
   ]
  },
  {
   "cell_type": "code",
   "execution_count": 5,
   "metadata": {},
   "outputs": [
    {
     "data": {
      "text/html": [
       "<div>\n",
       "<style scoped>\n",
       "    .dataframe tbody tr th:only-of-type {\n",
       "        vertical-align: middle;\n",
       "    }\n",
       "\n",
       "    .dataframe tbody tr th {\n",
       "        vertical-align: top;\n",
       "    }\n",
       "\n",
       "    .dataframe thead th {\n",
       "        text-align: right;\n",
       "    }\n",
       "</style>\n",
       "<table border=\"1\" class=\"dataframe\">\n",
       "  <thead>\n",
       "    <tr style=\"text-align: right;\">\n",
       "      <th></th>\n",
       "      <th>pst</th>\n",
       "      <th>consensus_sign</th>\n",
       "    </tr>\n",
       "  </thead>\n",
       "  <tbody>\n",
       "    <tr>\n",
       "      <th>0</th>\n",
       "      <td>APBB1(S610)</td>\n",
       "      <td>unknown</td>\n",
       "    </tr>\n",
       "    <tr>\n",
       "      <th>1</th>\n",
       "      <td>IKBKB(S181)</td>\n",
       "      <td>p_inc</td>\n",
       "    </tr>\n",
       "    <tr>\n",
       "      <th>2</th>\n",
       "      <td>CHUK(S180)</td>\n",
       "      <td>p_inc</td>\n",
       "    </tr>\n",
       "    <tr>\n",
       "      <th>3</th>\n",
       "      <td>FOXO3(T32)</td>\n",
       "      <td>conflict</td>\n",
       "    </tr>\n",
       "    <tr>\n",
       "      <th>4</th>\n",
       "      <td>FOXO3(S253)</td>\n",
       "      <td>conflict</td>\n",
       "    </tr>\n",
       "    <tr>\n",
       "      <th>...</th>\n",
       "      <td>...</td>\n",
       "      <td>...</td>\n",
       "    </tr>\n",
       "    <tr>\n",
       "      <th>10534</th>\n",
       "      <td>MLKL(T357)</td>\n",
       "      <td>p_inc</td>\n",
       "    </tr>\n",
       "    <tr>\n",
       "      <th>10535</th>\n",
       "      <td>DAXX(S668)</td>\n",
       "      <td>unknown</td>\n",
       "    </tr>\n",
       "    <tr>\n",
       "      <th>10536</th>\n",
       "      <td>STK38L(T442)</td>\n",
       "      <td>p_inc</td>\n",
       "    </tr>\n",
       "    <tr>\n",
       "      <th>10537</th>\n",
       "      <td>STK24(T190)</td>\n",
       "      <td>unknown</td>\n",
       "    </tr>\n",
       "    <tr>\n",
       "      <th>10538</th>\n",
       "      <td>MAP3K4(T1494)</td>\n",
       "      <td>unknown</td>\n",
       "    </tr>\n",
       "  </tbody>\n",
       "</table>\n",
       "<p>10539 rows × 2 columns</p>\n",
       "</div>"
      ],
      "text/plain": [
       "                 pst consensus_sign\n",
       "0        APBB1(S610)        unknown\n",
       "1        IKBKB(S181)          p_inc\n",
       "2         CHUK(S180)          p_inc\n",
       "3         FOXO3(T32)       conflict\n",
       "4        FOXO3(S253)       conflict\n",
       "...              ...            ...\n",
       "10534     MLKL(T357)          p_inc\n",
       "10535     DAXX(S668)        unknown\n",
       "10536   STK38L(T442)          p_inc\n",
       "10537    STK24(T190)        unknown\n",
       "10538  MAP3K4(T1494)        unknown\n",
       "\n",
       "[10539 rows x 2 columns]"
      ]
     },
     "execution_count": 5,
     "metadata": {},
     "output_type": "execute_result"
    }
   ],
   "source": [
    "effect_sign"
   ]
  },
  {
   "cell_type": "code",
   "execution_count": 6,
   "metadata": {},
   "outputs": [],
   "source": [
    "effect_sign.to_csv('data/processed/facts/effect_sign_omnipath.csv', index=False)"
   ]
  },
  {
   "cell_type": "code",
   "execution_count": 7,
   "metadata": {},
   "outputs": [],
   "source": [
    "# write Prolog file\n",
    "with open('models/facts/effect_sign_omnipath.pl', 'w') as file:\n",
    "    for index, row in effect_sign.iterrows():\n",
    "        var1 = \"effect_sign('{}', {}).\".format(row['pst'], row['consensus_sign'])\n",
    "        file.write(var1 + '\\n')"
   ]
  }
 ],
 "metadata": {
  "kernelspec": {
   "display_name": "phospho_logician",
   "language": "python",
   "name": "python3"
  },
  "language_info": {
   "codemirror_mode": {
    "name": "ipython",
    "version": 3
   },
   "file_extension": ".py",
   "mimetype": "text/x-python",
   "name": "python",
   "nbconvert_exporter": "python",
   "pygments_lexer": "ipython3",
   "version": "3.11.3"
  },
  "orig_nbformat": 4
 },
 "nbformat": 4,
 "nbformat_minor": 2
}
