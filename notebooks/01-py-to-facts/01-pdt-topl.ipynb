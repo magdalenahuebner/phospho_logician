{
 "cells": [
  {
   "cell_type": "code",
   "execution_count": 72,
   "metadata": {},
   "outputs": [],
   "source": [
    "import os\n",
    "import pandas as pd\n",
    "import sqlite3"
   ]
  },
  {
   "cell_type": "code",
   "execution_count": 73,
   "metadata": {},
   "outputs": [],
   "source": [
    "os.chdir('/Users/magdalena/OneDrive - Queen Mary, University of London/bezzlab/research/projects/phospho_logician/')\n",
    "# os.chdir('/home/mhuebner/Desktop/bezzlab/research/projects/phospho_logician/')"
   ]
  },
  {
   "cell_type": "code",
   "execution_count": 74,
   "metadata": {},
   "outputs": [],
   "source": [
    "conn = sqlite3.connect('data/external/chemphopro.db')"
   ]
  },
  {
   "cell_type": "code",
   "execution_count": 75,
   "metadata": {},
   "outputs": [],
   "source": [
    "# selecting cell line\n",
    "cline = 'NTERA2'  # HL60, MCF7, NTERA2\n",
    "cline_sql = 'NTERA-2 clone D1'  # HL-60, MCF-7, NTERA-2 clone D1"
   ]
  },
  {
   "cell_type": "code",
   "execution_count": 76,
   "metadata": {},
   "outputs": [
    {
     "name": "stderr",
     "output_type": "stream",
     "text": [
      "/var/folders/l3/vxqxpwf10_x9jp7g4_x9yy9m0000gn/T/ipykernel_70265/1028720092.py:9: FutureWarning: The default value of regex will change from True to False in a future version.\n",
      "  ks_rel['tprot'] = ks_rel['substrate'].str.replace(r'\\(.*$', \"\")\n"
     ]
    }
   ],
   "source": [
    "# data frame with \"where....\" adding SQL Query parameters\n",
    "ks_rel = pd.read_sql_query(f\"SELECT * FROM ks_relationship WHERE cell_line = '{cline_sql}' ;\", conn)\n",
    "\n",
    "# drop duplicate entries\n",
    "ks_rel = ks_rel.drop_duplicates()\n",
    "ks_rel[ks_rel[['kinase', 'substrate']].duplicated()]\n",
    "\n",
    "# add also the target protein (the protein that a phosphosite is on) to df\n",
    "ks_rel['tprot'] = ks_rel['substrate'].str.replace(r'\\(.*$', \"\")\n",
    "\n",
    "# extract enzyme -> target protein relationships (PPIs)\n",
    "ktprot_rel = ks_rel[['kinase', 'tprot']].drop_duplicates()"
   ]
  },
  {
   "cell_type": "code",
   "execution_count": 77,
   "metadata": {},
   "outputs": [
    {
     "data": {
      "text/html": [
       "<div>\n",
       "<style scoped>\n",
       "    .dataframe tbody tr th:only-of-type {\n",
       "        vertical-align: middle;\n",
       "    }\n",
       "\n",
       "    .dataframe tbody tr th {\n",
       "        vertical-align: top;\n",
       "    }\n",
       "\n",
       "    .dataframe thead th {\n",
       "        text-align: right;\n",
       "    }\n",
       "</style>\n",
       "<table border=\"1\" class=\"dataframe\">\n",
       "  <thead>\n",
       "    <tr style=\"text-align: right;\">\n",
       "      <th></th>\n",
       "      <th>kinase</th>\n",
       "      <th>tprot</th>\n",
       "    </tr>\n",
       "  </thead>\n",
       "  <tbody>\n",
       "    <tr>\n",
       "      <th>0</th>\n",
       "      <td>ABL1</td>\n",
       "      <td>EEF2K</td>\n",
       "    </tr>\n",
       "    <tr>\n",
       "      <th>1</th>\n",
       "      <td>ABL1</td>\n",
       "      <td>PARD3</td>\n",
       "    </tr>\n",
       "    <tr>\n",
       "      <th>2</th>\n",
       "      <td>ABL1</td>\n",
       "      <td>TNS1</td>\n",
       "    </tr>\n",
       "    <tr>\n",
       "      <th>3</th>\n",
       "      <td>ABL1</td>\n",
       "      <td>DDX17</td>\n",
       "    </tr>\n",
       "    <tr>\n",
       "      <th>4</th>\n",
       "      <td>ABL1</td>\n",
       "      <td>AFDN</td>\n",
       "    </tr>\n",
       "    <tr>\n",
       "      <th>...</th>\n",
       "      <td>...</td>\n",
       "      <td>...</td>\n",
       "    </tr>\n",
       "    <tr>\n",
       "      <th>6358</th>\n",
       "      <td>MAP3K20</td>\n",
       "      <td>BOD1L1</td>\n",
       "    </tr>\n",
       "    <tr>\n",
       "      <th>6359</th>\n",
       "      <td>MAP3K20</td>\n",
       "      <td>ATXN1L</td>\n",
       "    </tr>\n",
       "    <tr>\n",
       "      <th>6360</th>\n",
       "      <td>MAP3K20</td>\n",
       "      <td>ATAD2</td>\n",
       "    </tr>\n",
       "    <tr>\n",
       "      <th>6361</th>\n",
       "      <td>MAP3K20</td>\n",
       "      <td>ARHGEF9</td>\n",
       "    </tr>\n",
       "    <tr>\n",
       "      <th>6362</th>\n",
       "      <td>MAP3K20</td>\n",
       "      <td>AFDN</td>\n",
       "    </tr>\n",
       "  </tbody>\n",
       "</table>\n",
       "<p>5347 rows × 2 columns</p>\n",
       "</div>"
      ],
      "text/plain": [
       "       kinase    tprot\n",
       "0        ABL1    EEF2K\n",
       "1        ABL1    PARD3\n",
       "2        ABL1     TNS1\n",
       "3        ABL1    DDX17\n",
       "4        ABL1     AFDN\n",
       "...       ...      ...\n",
       "6358  MAP3K20   BOD1L1\n",
       "6359  MAP3K20   ATXN1L\n",
       "6360  MAP3K20    ATAD2\n",
       "6361  MAP3K20  ARHGEF9\n",
       "6362  MAP3K20     AFDN\n",
       "\n",
       "[5347 rows x 2 columns]"
      ]
     },
     "execution_count": 77,
     "metadata": {},
     "output_type": "execute_result"
    }
   ],
   "source": [
    "ktprot_rel"
   ]
  },
  {
   "cell_type": "code",
   "execution_count": 78,
   "metadata": {},
   "outputs": [],
   "source": [
    "# export df to csv\n",
    "ks_rel.to_csv(f'data/processed/facts/pdts_{cline}.csv', index=False)\n",
    "ktprot_rel.to_csv(f'data/processed/facts/pdts_tprot_{cline}.csv', index=False)"
   ]
  },
  {
   "cell_type": "code",
   "execution_count": 79,
   "metadata": {},
   "outputs": [],
   "source": [
    "# write Prolog file\n",
    "with open(f'models/facts/pdt_{cline}.pl', 'w') as file:\n",
    "    for index, row in ks_rel.iterrows():\n",
    "        var1 = \"pdt('{}', '{}', '{}').\".format(row['kinase'], row['substrate'], row['tprot'])\n",
    "        file.write(var1 + '\\n')\n",
    "\n",
    "# write Prolog file (same file just different predicate name)\n",
    "with open(f'models/facts/lint_approach/pdt_{cline}.pl', 'w') as file:\n",
    "    for index, row in ks_rel.iterrows():\n",
    "        var1 = \"us_of('{}', '{}', '{}').\".format(row['kinase'], row['substrate'], row['tprot'])\n",
    "        file.write(var1 + '\\n')"
   ]
  }
 ],
 "metadata": {
  "kernelspec": {
   "display_name": "phospho_logician",
   "language": "python",
   "name": "python3"
  },
  "language_info": {
   "codemirror_mode": {
    "name": "ipython",
    "version": 3
   },
   "file_extension": ".py",
   "mimetype": "text/x-python",
   "name": "python",
   "nbconvert_exporter": "python",
   "pygments_lexer": "ipython3",
   "version": "3.11.3"
  },
  "orig_nbformat": 4
 },
 "nbformat": 4,
 "nbformat_minor": 2
}
