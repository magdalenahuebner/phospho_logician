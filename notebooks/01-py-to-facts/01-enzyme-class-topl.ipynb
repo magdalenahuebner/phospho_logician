{
 "cells": [
  {
   "cell_type": "code",
   "execution_count": 3,
   "metadata": {},
   "outputs": [],
   "source": [
    "import os\n",
    "import pandas as pd\n",
    "import math"
   ]
  },
  {
   "cell_type": "code",
   "execution_count": 4,
   "metadata": {},
   "outputs": [],
   "source": [
    "# os.chdir('/Users/magdalena/OneDrive - Queen Mary, University of London/bezzlab/research/projects/phospho_logician/')\n",
    "os.chdir('/home/mhuebner/Desktop/bezzlab/research/projects/phospho_logician/')"
   ]
  },
  {
   "cell_type": "code",
   "execution_count": 5,
   "metadata": {},
   "outputs": [],
   "source": [
    "kinases = pd.read_csv('data/external/kpas/kinases_final.csv')\n",
    "phosphatases = pd.read_csv('data/external/kpas/phosphatases_final.csv')"
   ]
  },
  {
   "cell_type": "code",
   "execution_count": 6,
   "metadata": {},
   "outputs": [],
   "source": [
    "enzyme_class = []\n",
    "\n",
    "# iterate through kinases\n",
    "for i, k in kinases.iterrows():\n",
    "    if math.isnan(k['S.T']):\n",
    "        enzyme_class.append([k['kinase'], 'kinase', 'unknown'])\n",
    "    elif k['S.T'] == 1 and k['Y'] == 0:\n",
    "        enzyme_class.append([k['kinase'], 'kinase', 'st'])\n",
    "    elif k['S.T'] == 0 and k['Y'] == 1:\n",
    "        enzyme_class.append([k['kinase'], 'kinase', 'y'])\n",
    "    elif k['S.T'] == 1 and k['Y'] == 1:\n",
    "        enzyme_class.append([k['kinase'], 'kinase', 'sty'])\n",
    "\n",
    "# iterate through phosphatases\n",
    "for i, p in phosphatases.iterrows():\n",
    "    if math.isnan(p['S.T']):\n",
    "        enzyme_class.append([p['phosphatase'], 'phosphatase', 'unknown'])\n",
    "    elif p['S.T'] == 1 and p['Y'] == 0:\n",
    "        enzyme_class.append([p['phosphatase'], 'phosphatase', 'st'])\n",
    "    elif p['S.T'] == 0 and p['Y'] == 1:\n",
    "        enzyme_class.append([p['phosphatase'], 'phosphatase', 'y'])\n",
    "    elif p['S.T'] == 1 and p['Y'] == 1:\n",
    "        enzyme_class.append([p['phosphatase'], 'phosphatase', 'sty'])\n",
    "\n",
    "enzyme_class = pd.DataFrame(enzyme_class, columns=['enzyme', 'class', 'residue'])"
   ]
  },
  {
   "cell_type": "code",
   "execution_count": 7,
   "metadata": {},
   "outputs": [
    {
     "data": {
      "text/html": [
       "<div>\n",
       "<style scoped>\n",
       "    .dataframe tbody tr th:only-of-type {\n",
       "        vertical-align: middle;\n",
       "    }\n",
       "\n",
       "    .dataframe tbody tr th {\n",
       "        vertical-align: top;\n",
       "    }\n",
       "\n",
       "    .dataframe thead th {\n",
       "        text-align: right;\n",
       "    }\n",
       "</style>\n",
       "<table border=\"1\" class=\"dataframe\">\n",
       "  <thead>\n",
       "    <tr style=\"text-align: right;\">\n",
       "      <th></th>\n",
       "      <th>enzyme</th>\n",
       "      <th>class</th>\n",
       "      <th>residue</th>\n",
       "    </tr>\n",
       "  </thead>\n",
       "  <tbody>\n",
       "    <tr>\n",
       "      <th>0</th>\n",
       "      <td>AAK1</td>\n",
       "      <td>kinase</td>\n",
       "      <td>st</td>\n",
       "    </tr>\n",
       "    <tr>\n",
       "      <th>1</th>\n",
       "      <td>AATK</td>\n",
       "      <td>kinase</td>\n",
       "      <td>st</td>\n",
       "    </tr>\n",
       "    <tr>\n",
       "      <th>2</th>\n",
       "      <td>ABL1</td>\n",
       "      <td>kinase</td>\n",
       "      <td>y</td>\n",
       "    </tr>\n",
       "    <tr>\n",
       "      <th>3</th>\n",
       "      <td>ABL2</td>\n",
       "      <td>kinase</td>\n",
       "      <td>y</td>\n",
       "    </tr>\n",
       "    <tr>\n",
       "      <th>4</th>\n",
       "      <td>ACVR1</td>\n",
       "      <td>kinase</td>\n",
       "      <td>st</td>\n",
       "    </tr>\n",
       "    <tr>\n",
       "      <th>...</th>\n",
       "      <td>...</td>\n",
       "      <td>...</td>\n",
       "      <td>...</td>\n",
       "    </tr>\n",
       "    <tr>\n",
       "      <th>653</th>\n",
       "      <td>SSU72</td>\n",
       "      <td>phosphatase</td>\n",
       "      <td>st</td>\n",
       "    </tr>\n",
       "    <tr>\n",
       "      <th>654</th>\n",
       "      <td>TNS2</td>\n",
       "      <td>phosphatase</td>\n",
       "      <td>y</td>\n",
       "    </tr>\n",
       "    <tr>\n",
       "      <th>655</th>\n",
       "      <td>TPTE</td>\n",
       "      <td>phosphatase</td>\n",
       "      <td>y</td>\n",
       "    </tr>\n",
       "    <tr>\n",
       "      <th>656</th>\n",
       "      <td>UBASH3B</td>\n",
       "      <td>phosphatase</td>\n",
       "      <td>y</td>\n",
       "    </tr>\n",
       "    <tr>\n",
       "      <th>657</th>\n",
       "      <td>UBLCP1</td>\n",
       "      <td>phosphatase</td>\n",
       "      <td>st</td>\n",
       "    </tr>\n",
       "  </tbody>\n",
       "</table>\n",
       "<p>658 rows × 3 columns</p>\n",
       "</div>"
      ],
      "text/plain": [
       "      enzyme        class residue\n",
       "0       AAK1       kinase      st\n",
       "1       AATK       kinase      st\n",
       "2       ABL1       kinase       y\n",
       "3       ABL2       kinase       y\n",
       "4      ACVR1       kinase      st\n",
       "..       ...          ...     ...\n",
       "653    SSU72  phosphatase      st\n",
       "654     TNS2  phosphatase       y\n",
       "655     TPTE  phosphatase       y\n",
       "656  UBASH3B  phosphatase       y\n",
       "657   UBLCP1  phosphatase      st\n",
       "\n",
       "[658 rows x 3 columns]"
      ]
     },
     "execution_count": 7,
     "metadata": {},
     "output_type": "execute_result"
    }
   ],
   "source": [
    "enzyme_class"
   ]
  },
  {
   "cell_type": "code",
   "execution_count": 8,
   "metadata": {},
   "outputs": [],
   "source": [
    "# export df to csv\n",
    "enzyme_class.to_csv('data/processed/facts/enzyme_class.csv', index=False)"
   ]
  },
  {
   "cell_type": "code",
   "execution_count": 9,
   "metadata": {},
   "outputs": [],
   "source": [
    "# write Prolog file\n",
    "with open('models/facts/enzyme_class.pl', 'w') as file:\n",
    "    for index, row in enzyme_class.iterrows():\n",
    "        var1 = \"enzyme_class('{}', {}, {}).\".format(row['enzyme'], row['class'], row['residue'])\n",
    "        file.write(var1 + '\\n')"
   ]
  }
 ],
 "metadata": {
  "kernelspec": {
   "display_name": "phospho_logician",
   "language": "python",
   "name": "python3"
  },
  "language_info": {
   "codemirror_mode": {
    "name": "ipython",
    "version": 3
   },
   "file_extension": ".py",
   "mimetype": "text/x-python",
   "name": "python",
   "nbconvert_exporter": "python",
   "pygments_lexer": "ipython3",
   "version": "3.11.3"
  },
  "orig_nbformat": 4
 },
 "nbformat": 4,
 "nbformat_minor": 2
}
